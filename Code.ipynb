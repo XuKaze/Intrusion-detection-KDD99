{
 "cells": [
  {
   "cell_type": "code",
   "execution_count": 69,
   "metadata": {},
   "outputs": [],
   "source": [
    "import pandas as pd\n",
    "import numpy as np\n",
    "from sklearn.model_selection import train_test_split\n",
    "from sklearn.metrics import accuracy_score\n",
    "from sklearn.preprocessing  import KBinsDiscretizer\n",
    "from sklearn.preprocessing import LabelEncoder\n",
    "from sklearn.tree import DecisionTreeClassifier\n",
    "from sklearn.preprocessing import OneHotEncoder\n",
    "from sklearn.metrics import confusion_matrix\n",
    "from sklearn.metrics import recall_score\n",
    "from sklearn.ensemble import RandomForestClassifier"
   ]
  },
  {
   "cell_type": "markdown",
   "metadata": {},
   "source": [
    "# Data Reading\n"
   ]
  },
  {
   "cell_type": "code",
   "execution_count": 2,
   "metadata": {},
   "outputs": [],
   "source": [
    "col_names = [\"duration\",\"protocol_type\",\"service\",\"flag\",\"src_bytes\",\n",
    "\"dst_bytes\",\"land\",\"wrong_fragment\",\"urgent\",\"hot\",\"num_failed_logins\",\n",
    "\"logged_in\",\"num_compromised\",\"root_shell\",\"su_attempted\",\"num_root\",\n",
    "\"num_file_creations\",\"num_shells\",\"num_access_files\",\"num_outbound_cmds\",\n",
    "\"is_host_login\",\"is_guest_login\",\"count\",\"srv_count\",\"serror_rate\",\n",
    "\"srv_serror_rate\",\"rerror_rate\",\"srv_rerror_rate\",\"same_srv_rate\",\n",
    "\"diff_srv_rate\",\"srv_diff_host_rate\",\"dst_host_count\",\"dst_host_srv_count\",\n",
    "\"dst_host_same_srv_rate\",\"dst_host_diff_srv_rate\",\"dst_host_same_src_port_rate\",\n",
    "\"dst_host_srv_diff_host_rate\",\"dst_host_serror_rate\",\"dst_host_srv_serror_rate\",\n",
    "\"dst_host_rerror_rate\",\"dst_host_srv_rerror_rate\",\"label\"]\n",
    "official_train_data = pd.read_csv(\"kddcup.data.gz\",header=None,compression='gzip', sep=',',names = col_names)\n",
    "official_train_data_df = official_train_data.copy()"
   ]
  },
  {
   "cell_type": "code",
   "execution_count": 3,
   "metadata": {},
   "outputs": [],
   "source": [
    "train_attacks_type = {'normal.': 'normal','back.': 'dos','buffer_overflow.': 'u2r','ftp_write.': 'r2l',\n",
    "'guess_passwd.': 'r2l','imap.': 'r2l','ipsweep.': 'probe','land.': 'dos',\n",
    "'loadmodule.': 'u2r','multihop.': 'r2l','neptune.': 'dos',\n",
    "'nmap.': 'probe','perl.': 'u2r','phf.': 'r2l',\n",
    "'pod.': 'dos','portsweep.': 'probe','rootkit.': 'u2r',\n",
    "'satan.': 'probe','smurf.': 'dos','spy.': 'r2l','teardrop.': 'dos','warezclient.': 'r2l','warezmaster.': 'r2l',}\n",
    "official_train_data_df['label'] = official_train_data_df['label'].replace(train_attacks_type)"
   ]
  },
  {
   "cell_type": "code",
   "execution_count": 4,
   "metadata": {},
   "outputs": [],
   "source": [
    "# Binary attack type\n",
    "Binary_attack_type = {'dos' : 1,\n",
    "                     'normal' : 0,\n",
    "                     'probe' : 1,\n",
    "                     'r2l' : 1,\n",
    "                     'u2r' : 1}\n",
    "official_train_data_df['label'] = official_train_data_df['label'].replace(Binary_attack_type)"
   ]
  },
  {
   "cell_type": "code",
   "execution_count": 5,
   "metadata": {},
   "outputs": [],
   "source": [
    "#delete feature num_outbound_cmds cuz all 0\n",
    "official_train_data_df_cleared = official_train_data_df.drop('num_outbound_cmds', 1)"
   ]
  },
  {
   "cell_type": "code",
   "execution_count": 6,
   "metadata": {},
   "outputs": [],
   "source": [
    "# encoding nominal features to numerical features\n",
    "nominal_features = [\"protocol_type\", \"service\", \"flag\"]\n",
    "binary_features = [\"land\", \"logged_in\", \"root_shell\", \"su_attempted\", \"is_host_login\", \"is_guest_login\"]\n",
    "numeric_features = [\"duration\", \"src_bytes\",\n",
    "            \"dst_bytes\", \"wrong_fragment\", \"urgent\", \"hot\",\n",
    "            \"num_failed_logins\", \"num_compromised\", \"num_root\",\n",
    "            \"num_file_creations\", \"num_shells\", \"num_access_files\",\n",
    "            \"count\", \"srv_count\", \"serror_rate\",\"srv_serror_rate\", \"rerror_rate\", \"srv_rerror_rate\", \n",
    "            \"same_srv_rate\",\"diff_srv_rate\", \"srv_diff_host_rate\", \"dst_host_count\", \"dst_host_srv_count\",\n",
    "            \"dst_host_same_srv_rate\", \"dst_host_diff_srv_rate\", \"dst_host_same_src_port_rate\",\n",
    "            \"dst_host_srv_diff_host_rate\", \"dst_host_serror_rate\", \"dst_host_srv_serror_rate\",\n",
    "            \"dst_host_rerror_rate\", \"dst_host_srv_rerror_rate\"]"
   ]
  },
  {
   "cell_type": "code",
   "execution_count": 7,
   "metadata": {},
   "outputs": [],
   "source": [
    "# change nominal features from string to integer\n",
    "label_encoder = LabelEncoder()\n",
    "for item in nominal_features:\n",
    "    official_train_data_df_cleared[item] = label_encoder.fit_transform(official_train_data_df_cleared[item])"
   ]
  },
  {
   "cell_type": "code",
   "execution_count": 8,
   "metadata": {},
   "outputs": [],
   "source": [
    "#the attack type has been changed to binary attack & normal\n",
    "# for split training set and testing set\n",
    "y = official_train_data_df_cleared.label\n",
    "x = official_train_data_df_cleared.drop('label',axis = 1)\n",
    "X_train, X_test, y_train, y_test = train_test_split(x, y, test_size=0.33, random_state=1)"
   ]
  },
  {
   "cell_type": "markdown",
   "metadata": {},
   "source": [
    "#-----------------------✂---------------------------\n",
    "# official test dataset reading"
   ]
  },
  {
   "cell_type": "code",
   "execution_count": 9,
   "metadata": {},
   "outputs": [],
   "source": [
    "col_names = [\"duration\",\"protocol_type\",\"service\",\"flag\",\"src_bytes\",\n",
    "\"dst_bytes\",\"land\",\"wrong_fragment\",\"urgent\",\"hot\",\"num_failed_logins\",\n",
    "\"logged_in\",\"num_compromised\",\"root_shell\",\"su_attempted\",\"num_root\",\n",
    "\"num_file_creations\",\"num_shells\",\"num_access_files\",\"num_outbound_cmds\",\n",
    "\"is_host_login\",\"is_guest_login\",\"count\",\"srv_count\",\"serror_rate\",\n",
    "\"srv_serror_rate\",\"rerror_rate\",\"srv_rerror_rate\",\"same_srv_rate\",\n",
    "\"diff_srv_rate\",\"srv_diff_host_rate\",\"dst_host_count\",\"dst_host_srv_count\",\n",
    "\"dst_host_same_srv_rate\",\"dst_host_diff_srv_rate\",\"dst_host_same_src_port_rate\",\n",
    "\"dst_host_srv_diff_host_rate\",\"dst_host_serror_rate\",\"dst_host_srv_serror_rate\",\n",
    "\"dst_host_rerror_rate\",\"dst_host_srv_rerror_rate\",\"label\"]\n",
    "official_test_data = pd.read_csv(\"test data with corrected label.gz\",header=None,compression='gzip', sep=',',names = col_names)\n",
    "official_test_data_df = official_test_data.copy()"
   ]
  },
  {
   "cell_type": "code",
   "execution_count": 10,
   "metadata": {},
   "outputs": [],
   "source": [
    "# preprocessing official test data\n",
    "official_test_attacks_type = {\n",
    "'normal.': 'normal','back.': 'dos','buffer_overflow.': 'u2r','ftp_write.': 'r2l','guess_passwd.': 'r2l','imap.': 'r2l',\n",
    "'ipsweep.': 'probe','land.': 'dos','loadmodule.': 'u2r','multihop.': 'r2l','neptune.': 'dos','nmap.': 'probe',\n",
    "'perl.': 'u2r','phf.': 'r2l','pod.': 'dos','portsweep.': 'probe','rootkit.': 'u2r','satan.': 'probe','smurf.': 'dos',\n",
    "'spy.': 'r2l','teardrop.': 'dos','warezclient.': 'r2l','warezmaster.': 'r2l','snmpgetattack.':'probe','mscan.': 'probe',\n",
    "'saint.': 'probe','apache2.': 'dos','mailbomb.': 'dos',\n",
    "'processtable.': 'dos','udpstorm.': 'dos','httptunnel.':'dos','ps.':'dos','sqlattack.':'dos',\n",
    "'xterm.':'dos','named.': 'r2l','sendmail.':'r2l','snmpgetattack.':'r2l','snmpguess.':'r2l','worm.': 'r2l','xlock.':'r2l',\n",
    "'xsnoop.':'r2l'}\n",
    "official_test_data_df['label'] = official_test_data_df['label'].replace(official_test_attacks_type)"
   ]
  },
  {
   "cell_type": "code",
   "execution_count": 11,
   "metadata": {},
   "outputs": [
    {
     "data": {
      "text/plain": [
       "1    250436\n",
       "0     60593\n",
       "Name: label, dtype: int64"
      ]
     },
     "execution_count": 11,
     "metadata": {},
     "output_type": "execute_result"
    }
   ],
   "source": [
    "# Binary attack type\n",
    "Binary_attack_type = {'dos' : 1,\n",
    "                     'normal' : 0,\n",
    "                     'probe' : 1,\n",
    "                     'r2l' : 1,\n",
    "                     'u2r' : 1}\n",
    "official_test_data_df['label'] = official_test_data_df['label'].replace(Binary_attack_type)\n",
    "official_test_data_df['label'].value_counts()"
   ]
  },
  {
   "cell_type": "code",
   "execution_count": 12,
   "metadata": {},
   "outputs": [],
   "source": [
    "nominal_features = [\"protocol_type\", \"service\", \"flag\"]\n",
    "binary_features = [\"land\", \"logged_in\", \"root_shell\", \"su_attempted\", \"is_host_login\", \"is_guest_login\"]\n",
    "numeric_features = [\"duration\", \"src_bytes\",\n",
    "            \"dst_bytes\", \"wrong_fragment\", \"urgent\", \"hot\",\n",
    "            \"num_failed_logins\", \"num_compromised\", \"num_root\",\n",
    "            \"num_file_creations\", \"num_shells\", \"num_access_files\",\n",
    "            \"count\", \"srv_count\", \"serror_rate\",\"srv_serror_rate\", \"rerror_rate\", \"srv_rerror_rate\", \"same_srv_rate\",\n",
    "            \"diff_srv_rate\", \"srv_diff_host_rate\", \"dst_host_count\", \"dst_host_srv_count\",\n",
    "            \"dst_host_same_srv_rate\", \"dst_host_diff_srv_rate\", \"dst_host_same_src_port_rate\",\n",
    "            \"dst_host_srv_diff_host_rate\", \"dst_host_serror_rate\", \"dst_host_srv_serror_rate\",\n",
    "            \"dst_host_rerror_rate\", \"dst_host_srv_rerror_rate\"]\n",
    "# change label\n",
    "label_encoder = LabelEncoder()\n",
    "for item in nominal_features:\n",
    "    official_test_data_df[item] = label_encoder.fit_transform(official_test_data_df[item])"
   ]
  },
  {
   "cell_type": "code",
   "execution_count": 13,
   "metadata": {},
   "outputs": [],
   "source": [
    "X_official_test = official_test_data_df.drop(['label','num_outbound_cmds'], axis = 1)\n",
    "y_official_test = official_test_data_df['label']\n",
    "X_official_test_categorical = pd.concat([X_official_test[nominal_features],X_official_test[binary_features]],axis = 1)\n",
    "X_official_test_continuous = X_official_test[numeric_features]"
   ]
  },
  {
   "cell_type": "code",
   "execution_count": 14,
   "metadata": {},
   "outputs": [],
   "source": [
    "# prepare dataset to be ready for discretization: \n",
    "# X_train_continuous, X_train_categorical, X_test_continuous, X_test_categorical\n",
    "X_train_continuous = X_train[numeric_features]\n",
    "X_train_categorical = pd.concat([X_train[nominal_features],X_train[binary_features]],axis = 1)\n",
    "X_train_continuous_label = pd.concat([X_train[numeric_features],y_train],axis = 1)\n",
    "X_test_continuous = X_test[numeric_features]\n",
    "X_test_categorical = pd.concat([X_test[nominal_features],X_test[binary_features]],axis = 1)"
   ]
  },
  {
   "cell_type": "markdown",
   "metadata": {},
   "source": [
    "##-----------------------✂---------------------------##\n",
    "# Preprocessing Discretization\n",
    "'''\n",
    "X_train_continuous\n",
    "X_test_continuous\n",
    "X_official_test_continuous\n",
    "\n",
    "X_train_categorical\n",
    "X_test_categorical\n",
    "X_official_test_categorical\n",
    "\n",
    "'''"
   ]
  },
  {
   "cell_type": "code",
   "execution_count": 15,
   "metadata": {},
   "outputs": [],
   "source": [
    "# X_train_EWD\n",
    "est_ewd = KBinsDiscretizer(n_bins = 5, encode = 'ordinal', strategy = 'uniform')\n",
    "est_ewd.fit(X_train[numeric_features])\n",
    "Xtt = est_ewd.transform(X_train[numeric_features])\n",
    "X_train_continuous_ewd = pd.DataFrame(Xtt)\n",
    "X_train_continuous_ewd.columns = numeric_features\n",
    "X_train_ewd = pd.concat([X_train_categorical.reset_index(drop = True), X_train_continuous_ewd], axis = 1)"
   ]
  },
  {
   "cell_type": "code",
   "execution_count": 16,
   "metadata": {},
   "outputs": [],
   "source": [
    "#  X_test_ewd\n",
    "X_test_continuous_ewd = est_ewd.transform(X_test[numeric_features])\n",
    "X_test_continuous_ewd_df = pd.DataFrame(X_test_continuous_ewd)\n",
    "X_test_continuous_ewd_df.columns = numeric_features\n",
    "X_test_ewd = pd.concat([X_test_categorical.reset_index(drop = True), X_test_continuous_ewd_df], axis = 1)"
   ]
  },
  {
   "cell_type": "code",
   "execution_count": 17,
   "metadata": {},
   "outputs": [],
   "source": [
    "# X_official_test_ewd\n",
    "X_officicial_test_continuous_ewd = est_ewd.transform(X_official_test_continuous)\n",
    "X_officicial_test_continuous_ewd_df = pd.DataFrame(X_officicial_test_continuous_ewd)\n",
    "X_officicial_test_continuous_ewd_df.columns = numeric_features\n",
    "X_official_test_ewd = pd.concat([X_official_test_categorical.reset_index(drop = True),\\\n",
    "                                 X_officicial_test_continuous_ewd_df], axis = 1)"
   ]
  },
  {
   "cell_type": "code",
   "execution_count": 18,
   "metadata": {},
   "outputs": [],
   "source": [
    "# X_train_kmeans\n",
    "from sklearn.preprocessing  import KBinsDiscretizer\n",
    "est_kmeans = KBinsDiscretizer(n_bins = 2, encode = 'ordinal', strategy = 'kmeans')\n",
    "est_kmeans.fit(X_train[numeric_features])\n",
    "est_kmeans_transformed = est_kmeans.transform(X_train[numeric_features])\n",
    "X_train_continuous_kmeans = pd.DataFrame(est_kmeans_transformed)\n",
    "X_train_continuous_kmeans.columns = numeric_features\n",
    "X_train_kmeans = pd.concat([X_train_categorical.reset_index(drop = True), X_train_continuous_kmeans], axis = 1)"
   ]
  },
  {
   "cell_type": "code",
   "execution_count": 19,
   "metadata": {},
   "outputs": [],
   "source": [
    "#  X_test_kmeans\n",
    "X_test_continuous_kmeans = est_kmeans.transform(X_test[numeric_features])\n",
    "X_test_continuous_kmeans_df = pd.DataFrame(X_test_continuous_kmeans)\n",
    "X_test_continuous_kmeans_df.columns = numeric_features\n",
    "X_test_kmeans = pd.concat([X_test_categorical.reset_index(drop = True), X_test_continuous_kmeans_df], axis = 1)"
   ]
  },
  {
   "cell_type": "code",
   "execution_count": 20,
   "metadata": {},
   "outputs": [],
   "source": [
    "# X_official_test_kmeans\n",
    "X_official_test_continuous_kmeans = est_kmeans.transform(X_official_test_continuous)\n",
    "X_official_test_continuous_kmeans_df = pd.DataFrame(X_official_test_continuous_kmeans)\n",
    "X_official_test_continuous_kmeans_df.columns = numeric_features\n",
    "X_official_test_kmeans = pd.concat([X_official_test_categorical.reset_index(drop = True), \\\n",
    "                                    X_official_test_continuous_kmeans_df], axis = 1)"
   ]
  },
  {
   "cell_type": "code",
   "execution_count": 21,
   "metadata": {},
   "outputs": [],
   "source": [
    "# Entropy Minimization Discretization method\n",
    "from Orange.data import Table, Domain\n",
    "import Orange.preprocess as OrangePre\n",
    "training_domain = Domain.from_numpy(X_train_continuous.values,y_train.values)\n",
    "training_continuous_table = Table.from_numpy(training_domain,X_train_continuous.values,y_train.values) #v2=1  v1 =0\n",
    "# setting discretization method\n",
    "disc_entropy = OrangePre.Discretize()\n",
    "disc_entropy.method = OrangePre.discretize.EntropyMDL(force = True) \n",
    "# discretize the continuous variables in trainning set\n",
    "train_continuous_discretized = disc_entropy(training_continuous_table)\n",
    "# transfer discretized data back to dataframe, getting final X_train_EMD\n",
    "train_continuous_discretized_df = pd.DataFrame(np.array(train_continuous_discretized))\n",
    "train_continuous_discretized_df.columns = numeric_features + ['label'] # add feature name\n",
    "train_continuous_discretized_df = train_continuous_discretized_df.drop(['label'], axis = 1)\n",
    "X_train_emd = pd.concat([X_train_categorical.reset_index(drop = True), train_continuous_discretized_df],axis = 1) # X_train_EMD"
   ]
  },
  {
   "cell_type": "code",
   "execution_count": 22,
   "metadata": {},
   "outputs": [],
   "source": [
    "# prepare X_test_EMD, fit the learnt discretization method on test data\n",
    "X_test_continuous = X_test[numeric_features]\n",
    "test_domain = Domain.from_numpy(X_test_continuous)\n",
    "X_test_continuous_table = Table.from_numpy(test_domain, X_test_continuous.values)\n",
    "X_test_continuous_discretized = X_test_continuous_table.transform(train_continuous_discretized.domain)\n",
    "X_test_continuous_discretized_df = pd.DataFrame(np.array(X_test_continuous_discretized))\n",
    "X_test_continuous_discretized_df.columns = numeric_features + ['label']\n",
    "X_test_continuous_discretized_df = X_test_continuous_discretized_df.drop(['label'], axis = 1)\n",
    "X_test_emd = pd.concat([X_test_categorical.reset_index(drop = True), X_test_continuous_discretized_df], axis = 1)"
   ]
  },
  {
   "cell_type": "code",
   "execution_count": 23,
   "metadata": {},
   "outputs": [],
   "source": [
    "# prepare X_official_test_EMD, fit the learnt discretization method on official test data\n",
    "X_official_test_continuous = X_official_test[numeric_features]\n",
    "official_test_domain = Domain.from_numpy(X_official_test_continuous)\n",
    "X_official_test_continuous_table = Table.from_numpy(official_test_domain, X_official_test_continuous.values)\n",
    "X_official_test_continuous_discretized = X_official_test_continuous_table.transform(train_continuous_discretized.domain)\n",
    "X_official_test_continuous_discretized_df = pd.DataFrame(np.array(X_official_test_continuous_discretized))\n",
    "X_official_test_continuous_discretized_df.columns = numeric_features + ['label']\n",
    "X_official_test_continuous_discretized_df = X_official_test_continuous_discretized_df.drop(['label'], axis = 1)\n",
    "X_official_test_emd = pd.concat([X_official_test_categorical.reset_index(drop = True), X_official_test_continuous_discretized_df], axis = 1)"
   ]
  },
  {
   "cell_type": "code",
   "execution_count": 24,
   "metadata": {},
   "outputs": [],
   "source": [
    "# Due to a large amount of duplcated values in each feature, it is necessary to build a specific equal frequency disc PKID\n",
    "#\n",
    "import math\n",
    "def EqualFrequencyDisc(train_df, test_df, k, label):#\n",
    "    disc_train_df = pd.DataFrame()\n",
    "    disc_test_df = pd.DataFrame()\n",
    "    for item in train_df.columns:\n",
    "        unique_list = train_df[item].unique()\n",
    "        est_efd = KBinsDiscretizer(n_bins = k, encode = 'ordinal', strategy = 'quantile')\n",
    "        est_efd.fit(unique_list.reshape(-1,1))\n",
    "        train_col_disc = est_efd.transform(np.array(train_df[item]).reshape(-1,1))\n",
    "        test_col_disc = est_efd.transform(np.array(test_df[item]).reshape(-1,1))\n",
    "        disc_train_df = pd.concat([disc_train_df,pd.DataFrame(train_col_disc)], axis = 1)\n",
    "        disc_test_df = pd.concat([disc_test_df,pd.DataFrame(test_col_disc)], axis = 1)\n",
    "    disc_train_df.columns = label\n",
    "    disc_test_df.columns = label\n",
    "    return disc_train_df, disc_test_df \n",
    "    \n",
    "\n",
    "\n",
    "def EqualFrequencyDisc_pkid(train_df, test_df, label):\n",
    "    disc_train_df = pd.DataFrame()\n",
    "    disc_test_df = pd.DataFrame()\n",
    "    for item in train_df.columns:\n",
    "        bin_nums = int(math.sqrt(train_df[item].nunique()))\n",
    "        if bin_nums < 2:\n",
    "            bin_nums += 1\n",
    "        else:\n",
    "            bin_nums += 0\n",
    "        unique_list = train_df[item].unique()\n",
    "        est_efd = KBinsDiscretizer(n_bins = bin_nums, encode = 'ordinal', strategy = 'quantile')\n",
    "        est_efd.fit(unique_list.reshape(-1,1))\n",
    "        train_col_disc = est_efd.transform(np.array(train_df[item]).reshape(-1,1))\n",
    "        test_col_disc = est_efd.transform(np.array(test_df[item]).reshape(-1,1))\n",
    "        disc_train_df = pd.concat([disc_train_df,pd.DataFrame(train_col_disc)], axis = 1)\n",
    "        disc_test_df = pd.concat([disc_test_df,pd.DataFrame(test_col_disc)], axis = 1)\n",
    "    disc_train_df.columns = label\n",
    "    disc_test_df.columns = label\n",
    "    return disc_train_df, disc_test_df"
   ]
  },
  {
   "cell_type": "code",
   "execution_count": 25,
   "metadata": {},
   "outputs": [],
   "source": [
    "# EFD X_train_continuous_EFD, X_test_continuous_EFD, k = 5\n",
    "X_train_continuous_EFD, X_test_continuous_EFD = EqualFrequencyDisc(\\\n",
    "                X_train[numeric_features],X_test[numeric_features],5,numeric_features)"
   ]
  },
  {
   "cell_type": "code",
   "execution_count": 26,
   "metadata": {},
   "outputs": [],
   "source": [
    "# X_train_efd, X_test_efd\n",
    "X_train_efd = pd.concat([X_train_categorical.reset_index(drop = True), X_train_continuous_EFD], axis = 1)\n",
    "X_test_efd = pd.concat([X_test_categorical.reset_index(drop = True), X_test_continuous_EFD], axis = 1)"
   ]
  },
  {
   "cell_type": "code",
   "execution_count": 27,
   "metadata": {},
   "outputs": [],
   "source": [
    "# X_official_test_continuous_EFD, k = 5\n",
    "X_train_continuous_EFD, X_official_test_continuous_EFD = EqualFrequencyDisc(\\\n",
    "                X_train[numeric_features],X_official_test[numeric_features],5,numeric_features)"
   ]
  },
  {
   "cell_type": "code",
   "execution_count": 28,
   "metadata": {},
   "outputs": [],
   "source": [
    "# X_official_test_efd\n",
    "X_official_test_efd = pd.concat([X_official_test_categorical.reset_index(drop = True), X_official_test_continuous_EFD], axis = 1)"
   ]
  },
  {
   "cell_type": "code",
   "execution_count": 29,
   "metadata": {},
   "outputs": [],
   "source": [
    "# X_train_pkid, X_test_pkid\n",
    "X_train_continuous_pkid, X_test_continuous_pkid = EqualFrequencyDisc_pkid(\\\n",
    "                X_train[numeric_features],X_test[numeric_features],numeric_features)\n"
   ]
  },
  {
   "cell_type": "code",
   "execution_count": 30,
   "metadata": {},
   "outputs": [],
   "source": [
    "# X_train_pkid, X_test_pkid\n",
    "X_train_pkid = pd.concat([X_train_categorical.reset_index(drop = True), X_train_continuous_pkid], axis = 1)\n",
    "X_test_pkid = pd.concat([X_test_categorical.reset_index(drop = True), X_test_continuous_pkid], axis = 1)"
   ]
  },
  {
   "cell_type": "code",
   "execution_count": 31,
   "metadata": {},
   "outputs": [],
   "source": [
    "# X_official_test_pkid\n",
    "X_train_continuous_pkid, X_test_official_continuous_pkid = EqualFrequencyDisc(\\\n",
    "                X_train[numeric_features],X_official_test[numeric_features],5,numeric_features)"
   ]
  },
  {
   "cell_type": "code",
   "execution_count": 32,
   "metadata": {},
   "outputs": [],
   "source": [
    "X_official_test_pkid = pd.concat([X_official_test_categorical.reset_index(drop = True), X_test_official_continuous_pkid], axis = 1)"
   ]
  },
  {
   "cell_type": "markdown",
   "metadata": {},
   "source": [
    "##-----------------------✂---------------------------##\n",
    "# Training model & Evaluation"
   ]
  },
  {
   "cell_type": "code",
   "execution_count": null,
   "metadata": {},
   "outputs": [],
   "source": [
    "# Prepare the list of unknow cases which does not exist in Training set, check its accuracy"
   ]
  },
  {
   "cell_type": "code",
   "execution_count": 33,
   "metadata": {},
   "outputs": [],
   "source": [
    "# find the special label which does not exist in training dataset\n",
    "speical_test_attack = []\n",
    "for item in official_test_data['label'].unique():\n",
    "    if np.isin(item,official_train_data['label'].unique(),invert=True):\n",
    "        speical_test_attack.append(item)"
   ]
  },
  {
   "cell_type": "code",
   "execution_count": 34,
   "metadata": {},
   "outputs": [],
   "source": [
    "# locate the index\n",
    "special_attack_index_list = []\n",
    "for index,row in official_test_data.iterrows():\n",
    "    if official_test_data['label'][index] in speical_test_attack:\n",
    "        special_attack_index_list.append(index)"
   ]
  },
  {
   "cell_type": "code",
   "execution_count": 35,
   "metadata": {},
   "outputs": [],
   "source": [
    "Unknown_cases = y_official_test.loc[special_attack_index_list]"
   ]
  },
  {
   "cell_type": "markdown",
   "metadata": {},
   "source": [
    "# Naive Bayesian with Gaussian assumption"
   ]
  },
  {
   "cell_type": "code",
   "execution_count": 155,
   "metadata": {},
   "outputs": [
    {
     "name": "stdout",
     "output_type": "stream",
     "text": [
      "Accuracy Rate is: 93.69 %\n",
      "Recall Rate is: 92.36 %\n"
     ]
    }
   ],
   "source": [
    "# Naive Bayesian with Gaussian assumption : X_test\n",
    "from sklearn.naive_bayes import GaussianNB\n",
    "X_train_GaussianNB = X_train\n",
    "y_train_GaussianNB = y_train\n",
    "# training the model\n",
    "NB_Gaussian = GaussianNB()\n",
    "NB_Gaussian.fit(X_train_GaussianNB,y_train_GaussianNB)\n",
    "expected = y_test\n",
    "predicted = NB_Gaussian.predict(X_test)\n",
    "accuracy_gaussian = accuracy_score(expected, predicted)\n",
    "recall_gaussian = recall_score(expected,predicted)\n",
    "print('Split test data, Accuracy Rate for Naive Bayes with Gaussian aussmption is:',round(accuracy_gaussian*100,2),'%')\n",
    "print('Split test data, Recall Rate for Naive Bayes with Gaussian aussmption is:',round(recall_gaussian*100,2),'%')"
   ]
  },
  {
   "cell_type": "code",
   "execution_count": 166,
   "metadata": {
    "scrolled": true
   },
   "outputs": [
    {
     "name": "stdout",
     "output_type": "stream",
     "text": [
      "Official test data, Accuracy Rate for Naive Bayes with Gaussian aussmption is: 85.81 %\n",
      "Official test data, Recall Rate for Naive Bayes with Gaussian aussmption is: 82.92 %\n"
     ]
    }
   ],
   "source": [
    "# Naive Bayesian with Gaussian assumption : official_test\n",
    "from sklearn.naive_bayes import GaussianNB\n",
    "X_train_GaussianNB = X_train\n",
    "y_train_GaussianNB = y_train\n",
    "# training the model\n",
    "NB_Gaussian = GaussianNB()\n",
    "NB_Gaussian.fit(X_train_GaussianNB,y_train_GaussianNB)\n",
    "expected = y_official_test\n",
    "predicted = NB_Gaussian.predict(X_official_test)\n",
    "accuracy_gaussian_official = accuracy_score(expected, predicted)\n",
    "recall_gaussian_official = recall_score(expected, predicted)\n",
    "print('Official test data, Accuracy Rate for Naive Bayes with Gaussian aussmption is:',round(accuracy_gaussian_official*100,2),'%')\n",
    "print('Official test data, Recall Rate for Naive Bayes with Gaussian aussmption is:',round(recall_gaussian_official*100,2),'%')"
   ]
  },
  {
   "cell_type": "code",
   "execution_count": 70,
   "metadata": {},
   "outputs": [
    {
     "name": "stdout",
     "output_type": "stream",
     "text": [
      "0.03390463986331358\n"
     ]
    }
   ],
   "source": [
    "accuracy_for_unknown_cases = accuracy_score(Unknown_cases,pd.Series(predicted)[special_attack_index_list])\n",
    "print(accuracy_for_unknown_cases)"
   ]
  },
  {
   "cell_type": "markdown",
   "metadata": {},
   "source": [
    "# Naive Bayes Equal Width Discretization"
   ]
  },
  {
   "cell_type": "code",
   "execution_count": 36,
   "metadata": {},
   "outputs": [
    {
     "name": "stdout",
     "output_type": "stream",
     "text": [
      "Split test data, Accuracy Rate for Naive Bayes with ewd is: 96.66 %\n",
      "Split test data, Recall Rate for Naive Bayes with ewd is: 96.17 %\n"
     ]
    }
   ],
   "source": [
    "#Naive Bayesian EWD\n",
    "from sklearn.naive_bayes import MultinomialNB\n",
    "# training the model\n",
    "MultinomialNB = MultinomialNB()\n",
    "MultinomialNB.fit(X_train_ewd,y_train)\n",
    "expected = y_test\n",
    "predicted = MultinomialNB.predict(X_test_ewd)\n",
    "accuracy_ewd = accuracy_score(expected, predicted)\n",
    "recall_ewd = recall_score(expected,predicted)\n",
    "print('Split test data, Accuracy Rate for Naive Bayes with ewd is:',round(accuracy_ewd*100,2),'%')\n",
    "print('Split test data, Recall Rate for Naive Bayes with ewd is:',round(recall_ewd*100,2),'%')"
   ]
  },
  {
   "cell_type": "code",
   "execution_count": 37,
   "metadata": {},
   "outputs": [
    {
     "name": "stdout",
     "output_type": "stream",
     "text": [
      "Official test data, Accuracy Rate for Naive Bayes with EMD is: 84.28 %\n",
      "Official test data, Recall Rate for Naive Bayes with EMD is: 81.04 %\n"
     ]
    }
   ],
   "source": [
    "#Naive Bayesian EWD\n",
    "from sklearn.naive_bayes import MultinomialNB\n",
    "# training the model\n",
    "MultinomialNB = MultinomialNB()\n",
    "MultinomialNB.fit(X_train_ewd,y_train)\n",
    "expected = y_official_test\n",
    "predicted = MultinomialNB.predict(X_official_test_ewd)\n",
    "accuracy_ewd_official = accuracy_score(expected, predicted)\n",
    "recall_ewd_official = recall_score(expected,predicted)\n",
    "print('Official test data, Accuracy Rate for Naive Bayes with EMD is:',round(accuracy_ewd_official*100,2),'%')\n",
    "print('Official test data, Recall Rate for Naive Bayes with EMD is:',round(recall_ewd_official*100,2),'%')"
   ]
  },
  {
   "cell_type": "code",
   "execution_count": 38,
   "metadata": {},
   "outputs": [
    {
     "name": "stdout",
     "output_type": "stream",
     "text": [
      "Unknown attack type detected rate is: 8.12 %\n"
     ]
    }
   ],
   "source": [
    "accuracy_for_unknown_cases = accuracy_score(Unknown_cases,pd.Series(predicted)[special_attack_index_list])\n",
    "print('Unknown attack type detected rate is:',round(accuracy_for_unknown_cases*100,2),'%')"
   ]
  },
  {
   "cell_type": "markdown",
   "metadata": {},
   "source": [
    "# Naive Bayes Entropy Minimization Discretization"
   ]
  },
  {
   "cell_type": "code",
   "execution_count": 176,
   "metadata": {},
   "outputs": [
    {
     "name": "stdout",
     "output_type": "stream",
     "text": [
      "Split test data, Accuracy Rate for Naive Bayes with EMD is: 99.19 %\n",
      "Split test data, Recall Rate for Naive Bayes with EMD is: 99.23 %\n"
     ]
    }
   ],
   "source": [
    "#Naive Bayesian Entropy Minimization Discretization : X_test\n",
    "from sklearn.naive_bayes import MultinomialNB\n",
    "# training the model\n",
    "MultinomialNB_emd = MultinomialNB()\n",
    "MultinomialNB_emd.fit(X_train_emd,y_train)\n",
    "expected = y_test\n",
    "predicted = MultinomialNB_emd.predict(X_test_emd)\n",
    "accuracy_emd = accuracy_score(expected, predicted)\n",
    "recall_emd = recall_score(expected,predicted)\n",
    "print('Split test data, Accuracy Rate for Naive Bayes with EMD is:',round(accuracy_emd*100,2),'%')\n",
    "print('Split test data, Recall Rate for Naive Bayes with EMD is:',round(recall_emd*100,2),'%')"
   ]
  },
  {
   "cell_type": "code",
   "execution_count": 177,
   "metadata": {},
   "outputs": [
    {
     "name": "stdout",
     "output_type": "stream",
     "text": [
      "Official test data, Accuracy Rate for Naive Bayes with EMD is: 91.45 %\n",
      "Official test data, Recall Rate for Naive Bayes with EMD is: 89.96 %\n"
     ]
    }
   ],
   "source": [
    "#Naive Bayesian Entropy Minimization Discretization : X_official_test\n",
    "from sklearn.naive_bayes import MultinomialNB\n",
    "# training the model\n",
    "MultinomialNB_emd = MultinomialNB()\n",
    "MultinomialNB_emd.fit(X_train_emd,y_train)\n",
    "expected = y_official_test\n",
    "predicted = MultinomialNB_emd.predict(X_official_test_emd)\n",
    "accuracy_emd_official = accuracy_score(expected, predicted)\n",
    "recall_emd_official = recall_score(expected,predicted)\n",
    "print('Official test data, Accuracy Rate for Naive Bayes with EMD is:',round(accuracy_emd_official*100,2),'%')\n",
    "print('Official test data, Recall Rate for Naive Bayes with EMD is:',round(recall_emd_official*100,2),'%')"
   ]
  },
  {
   "cell_type": "code",
   "execution_count": 178,
   "metadata": {},
   "outputs": [
    {
     "name": "stdout",
     "output_type": "stream",
     "text": [
      "Unknown attack type detected rate is: 8.21 %\n"
     ]
    }
   ],
   "source": [
    "accuracy_for_unknown_cases = accuracy_score(Unknown_cases,pd.Series(predicted)[special_attack_index_list])\n",
    "print('Unknown attack type detected rate is:',round(accuracy_for_unknown_cases*100,2),'%')"
   ]
  },
  {
   "cell_type": "markdown",
   "metadata": {},
   "source": [
    "# Naive Bayes Equal Frequency Discretization"
   ]
  },
  {
   "cell_type": "code",
   "execution_count": 42,
   "metadata": {},
   "outputs": [
    {
     "name": "stdout",
     "output_type": "stream",
     "text": [
      "Split test data, Accuracy Rate for Naive Bayes with efd is: 96.85 %\n",
      "Split test data, Recall Rate for Naive Bayes with efd is: 96.4 %\n"
     ]
    }
   ],
   "source": [
    "#Naive Bayesian efd    : X_test\n",
    "from sklearn.naive_bayes import MultinomialNB\n",
    "# training the model\n",
    "MultinomialNB_efd = MultinomialNB()\n",
    "MultinomialNB_efd.fit(X_train_efd,y_train)\n",
    "expected = y_test\n",
    "predicted = MultinomialNB_efd.predict(X_test_efd)\n",
    "accuracy_efd = accuracy_score(expected, predicted)\n",
    "recall_efd = recall_score(expected,predicted)\n",
    "print('Split test data, Accuracy Rate for Naive Bayes with efd is:',round(accuracy_efd*100,2),'%')\n",
    "print('Split test data, Recall Rate for Naive Bayes with efd is:',round(recall_efd*100,2),'%')"
   ]
  },
  {
   "cell_type": "code",
   "execution_count": 43,
   "metadata": {},
   "outputs": [
    {
     "name": "stdout",
     "output_type": "stream",
     "text": [
      "Official test data, Accuracy Rate for Naive Bayes with efd is: 84.28 %\n",
      "Official test data, Recall Rate for Naive Bayes with efd is: 81.03 %\n"
     ]
    }
   ],
   "source": [
    "#Naive Bayesian efd    : X_official_test\n",
    "from sklearn.naive_bayes import MultinomialNB\n",
    "# training the model\n",
    "MultinomialNB_efd = MultinomialNB()\n",
    "MultinomialNB_efd.fit(X_train_efd,y_train)\n",
    "expected = y_official_test\n",
    "predicted = MultinomialNB_efd.predict(X_official_test_efd)\n",
    "accuracy_efd_official = accuracy_score(expected, predicted)\n",
    "recall_efd_official = recall_score(expected,predicted)\n",
    "print('Official test data, Accuracy Rate for Naive Bayes with efd is:',round(accuracy_efd_official*100,2),'%')\n",
    "print('Official test data, Recall Rate for Naive Bayes with efd is:',round(recall_efd_official*100,2),'%')"
   ]
  },
  {
   "cell_type": "code",
   "execution_count": 44,
   "metadata": {},
   "outputs": [
    {
     "name": "stdout",
     "output_type": "stream",
     "text": [
      "Unknown attack type detected rate is: 7.07 %\n"
     ]
    }
   ],
   "source": [
    "accuracy_for_unknown_cases = accuracy_score(Unknown_cases,pd.Series(predicted)[special_attack_index_list])\n",
    "print('Unknown attack type detected rate is:',round(accuracy_for_unknown_cases*100,2),'%')"
   ]
  },
  {
   "cell_type": "markdown",
   "metadata": {},
   "source": [
    "# Naive Bayes Proportional k-Interval Discretization"
   ]
  },
  {
   "cell_type": "code",
   "execution_count": 39,
   "metadata": {},
   "outputs": [
    {
     "name": "stdout",
     "output_type": "stream",
     "text": [
      "Split test data, Accuracy Rate for Naive Bayes with pkid is: 98.11 %\n",
      "Split test data, Recall Rate for Naive Bayes with pkid is: 98.27 %\n"
     ]
    }
   ],
   "source": [
    "#Naive Bayesian PKID    : X_test\n",
    "from sklearn.naive_bayes import MultinomialNB\n",
    "# training the model\n",
    "MultinomialNB_pkid = MultinomialNB()\n",
    "MultinomialNB_pkid.fit(X_train_pkid,y_train)\n",
    "expected = y_test\n",
    "predicted = MultinomialNB_pkid.predict(X_test_pkid)\n",
    "accuracy_pkid = accuracy_score(expected, predicted)\n",
    "recall_pkid = recall_score(expected,predicted)\n",
    "print('Split test data, Accuracy Rate for Naive Bayes with pkid is:',round(accuracy_pkid*100,2),'%')\n",
    "print('Split test data, Recall Rate for Naive Bayes with pkid is:',round(recall_pkid*100,2),'%')"
   ]
  },
  {
   "cell_type": "code",
   "execution_count": 40,
   "metadata": {},
   "outputs": [
    {
     "name": "stdout",
     "output_type": "stream",
     "text": [
      "Official test data, Accuracy Rate for Naive Bayes with pkid is: 77.77 %\n",
      "Official test data, Recall Rate for Naive Bayes with pkid is: 72.74 %\n"
     ]
    }
   ],
   "source": [
    "#Naive Bayesian efd    : X_official_test_efd\n",
    "from sklearn.naive_bayes import MultinomialNB\n",
    "# training the model\n",
    "MultinomialNB_pkid = MultinomialNB()\n",
    "MultinomialNB_pkid.fit(X_train_pkid,y_train)\n",
    "expected = y_official_test\n",
    "predicted = MultinomialNB_pkid.predict(X_official_test_pkid)\n",
    "accuracy = accuracy_score(expected, predicted)\n",
    "accuracy_pkid_official = accuracy_score(expected, predicted)\n",
    "recall_pkid_official = recall_score(expected,predicted)\n",
    "print('Official test data, Accuracy Rate for Naive Bayes with pkid is:',round(accuracy_pkid_official*100,2),'%')\n",
    "print('Official test data, Recall Rate for Naive Bayes with pkid is:',round(recall_pkid_official*100,2),'%')"
   ]
  },
  {
   "cell_type": "code",
   "execution_count": 41,
   "metadata": {},
   "outputs": [
    {
     "name": "stdout",
     "output_type": "stream",
     "text": [
      "Unknown attack type detected rate is: 3.87 %\n"
     ]
    }
   ],
   "source": [
    "accuracy_for_unknown_cases = accuracy_score(Unknown_cases,pd.Series(predicted)[special_attack_index_list])\n",
    "print('Unknown attack type detected rate is:',round(accuracy_for_unknown_cases*100,2),'%')"
   ]
  },
  {
   "cell_type": "markdown",
   "metadata": {},
   "source": [
    "# Naive Bayes K-means Discretization"
   ]
  },
  {
   "cell_type": "code",
   "execution_count": 179,
   "metadata": {},
   "outputs": [
    {
     "name": "stdout",
     "output_type": "stream",
     "text": [
      "Split test data, Accuracy Rate for Naive Bayes with kmeans is: 95.01 %\n",
      "Split test data, Recall Rate for Naive Bayes with kmeans is: 94.21 %\n"
     ]
    }
   ],
   "source": [
    "#Naive Bayesian Kmeans   : X_test\n",
    "from sklearn.naive_bayes import MultinomialNB\n",
    "# training the model\n",
    "MultinomialNB_kmeans = MultinomialNB()\n",
    "MultinomialNB_kmeans.fit(X_train_kmeans,y_train)\n",
    "expected = y_test\n",
    "predicted = MultinomialNB_kmeans.predict(X_test_kmeans)\n",
    "accuracy_kmeans = accuracy_score(expected, predicted)\n",
    "recall_kmeans = recall_score(expected,predicted)\n",
    "print('Split test data, Accuracy Rate for Naive Bayes with kmeans is:',round(accuracy_kmeans*100,2),'%')\n",
    "print('Split test data, Recall Rate for Naive Bayes with kmeans is:',round(recall_kmeans*100,2),'%')"
   ]
  },
  {
   "cell_type": "code",
   "execution_count": 45,
   "metadata": {},
   "outputs": [
    {
     "name": "stdout",
     "output_type": "stream",
     "text": [
      "Official test data, Accuracy Rate for Naive Bayes with kmeans is: 79.0 %\n",
      "Official test data, Recall Rate for Naive Bayes with kmeans is: 74.38 %\n"
     ]
    }
   ],
   "source": [
    "#Naive Bayesian Kmeans   : X_official_test\n",
    "from sklearn.naive_bayes import MultinomialNB\n",
    "# training the model\n",
    "MultinomialNB_kmeans = MultinomialNB()\n",
    "MultinomialNB_kmeans.fit(X_train_kmeans,y_train)\n",
    "expected = y_official_test\n",
    "predicted = MultinomialNB_kmeans.predict(X_official_test_kmeans)\n",
    "accuracy_kmeans_official = accuracy_score(expected, predicted)\n",
    "recall_kmeans_official = recall_score(expected,predicted)\n",
    "print('Official test data, Accuracy Rate for Naive Bayes with kmeans is:',round(accuracy_kmeans_official*100,2),'%')\n",
    "print('Official test data, Recall Rate for Naive Bayes with kmeans is:',round(recall_kmeans_official*100,2),'%')"
   ]
  },
  {
   "cell_type": "code",
   "execution_count": 181,
   "metadata": {},
   "outputs": [
    {
     "name": "stdout",
     "output_type": "stream",
     "text": [
      "Unknown attack type detected rate is: 7.1 %\n"
     ]
    }
   ],
   "source": [
    "accuracy_for_unknown_cases = accuracy_score(Unknown_cases,pd.Series(predicted)[special_attack_index_list])\n",
    "print('Unknown attack type detected rate is:',round(accuracy_for_unknown_cases*100,2),'%')"
   ]
  },
  {
   "cell_type": "markdown",
   "metadata": {},
   "source": [
    "# CART Equal Width Discretization"
   ]
  },
  {
   "cell_type": "code",
   "execution_count": 46,
   "metadata": {},
   "outputs": [
    {
     "name": "stdout",
     "output_type": "stream",
     "text": [
      "Split test data, Accuracy Rate for CART with ewd is: 99.94 %\n",
      "Split test data, Recall Rate for CART with ewd is: 99.93 %\n"
     ]
    }
   ],
   "source": [
    "# CART EWD on test data\n",
    "from sklearn.tree import DecisionTreeClassifier\n",
    "clf_ewd = DecisionTreeClassifier()\n",
    "clf_ewd.fit(X_train_ewd, y_train)\n",
    "expected = y_test\n",
    "predicted = clf_ewd.predict(X_test_ewd)\n",
    "accuracy_cart_ewd = accuracy_score(expected, predicted)\n",
    "recall_cart_ewd = recall_score(expected,predicted)\n",
    "print('Split test data, Accuracy Rate for CART with ewd is:',round(accuracy_cart_ewd*100,2),'%')\n",
    "print('Split test data, Recall Rate for CART with ewd is:',round(recall_cart_ewd*100,2),'%')"
   ]
  },
  {
   "cell_type": "code",
   "execution_count": 47,
   "metadata": {},
   "outputs": [
    {
     "name": "stdout",
     "output_type": "stream",
     "text": [
      "Official test data, Accuracy Rate for CART with ewd is: 91.91 %\n",
      "Official test data, Recall Rate for CART with ewd is: 90.08 %\n"
     ]
    }
   ],
   "source": [
    "# CART EWD on official test data\n",
    "clf_ewd = DecisionTreeClassifier()\n",
    "clf_ewd.fit(X_train_ewd, y_train)\n",
    "expected = y_official_test\n",
    "predicted = clf_ewd.predict(X_official_test_ewd)\n",
    "accuracy_cart_ewd_official = accuracy_score(expected, predicted)\n",
    "recall_cart_ewd_official = recall_score(expected,predicted)\n",
    "print('Official test data, Accuracy Rate for CART with ewd is:',round(accuracy_cart_ewd_official*100,2),'%')\n",
    "print('Official test data, Recall Rate for CART with ewd is:',round(recall_cart_ewd_official*100,2),'%')"
   ]
  },
  {
   "cell_type": "code",
   "execution_count": 49,
   "metadata": {},
   "outputs": [
    {
     "name": "stdout",
     "output_type": "stream",
     "text": [
      "Unknown attack type detected rate is: 9.81 %\n"
     ]
    }
   ],
   "source": [
    "accuracy_for_unknown_cases = accuracy_score(Unknown_cases,pd.Series(predicted)[special_attack_index_list])\n",
    "print('Unknown attack type detected rate is:',round(accuracy_for_unknown_cases*100,2),'%')"
   ]
  },
  {
   "cell_type": "markdown",
   "metadata": {},
   "source": [
    "# CART Entropy Minimization Discretization"
   ]
  },
  {
   "cell_type": "code",
   "execution_count": 50,
   "metadata": {},
   "outputs": [
    {
     "name": "stdout",
     "output_type": "stream",
     "text": [
      "Split test data, Accuracy Rate for CART with emd is: 99.99 %\n",
      "Split test data, Recall Rate for CART with emd is: 100.0 %\n"
     ]
    }
   ],
   "source": [
    "# CART EMD on train data\n",
    "from sklearn.tree import DecisionTreeClassifier\n",
    "clf_emd = DecisionTreeClassifier()\n",
    "clf_emd.fit(X_train_emd, y_train)\n",
    "expected = y_test\n",
    "predicted = clf_emd.predict(X_test_emd)\n",
    "accuracy_cart_emd = accuracy_score(expected, predicted)\n",
    "recall_cart_emd = recall_score(expected,predicted)\n",
    "print('Split test data, Accuracy Rate for CART with emd is:',round(accuracy_cart_emd*100,2),'%')\n",
    "print('Split test data, Recall Rate for CART with emd is:',round(recall_cart_emd*100,2),'%')"
   ]
  },
  {
   "cell_type": "code",
   "execution_count": 51,
   "metadata": {},
   "outputs": [
    {
     "name": "stdout",
     "output_type": "stream",
     "text": [
      "Official test data, Accuracy Rate for CART with emd is: 93.41 %\n",
      "Official test data, Recall Rate for CART with emd is: 91.94 %\n"
     ]
    }
   ],
   "source": [
    "# CART EMD on official test data\n",
    "from sklearn.tree import DecisionTreeClassifier\n",
    "clf_emd = DecisionTreeClassifier()\n",
    "clf_emd.fit(X_train_emd, y_train)\n",
    "expected = y_official_test\n",
    "predicted = clf_emd.predict(X_official_test_emd)\n",
    "accuracy_cart_emd_official = accuracy_score(expected, predicted)\n",
    "recall_cart_emd_official = recall_score(expected,predicted)\n",
    "print('Official test data, Accuracy Rate for CART with emd is:',round(accuracy_cart_emd_official*100,2),'%')\n",
    "print('Official test data, Recall Rate for CART with emd is:',round(recall_cart_emd_official*100,2),'%')"
   ]
  },
  {
   "cell_type": "code",
   "execution_count": 54,
   "metadata": {},
   "outputs": [
    {
     "name": "stdout",
     "output_type": "stream",
     "text": [
      "Unknown attack type detected rate is: 14.44 %\n"
     ]
    }
   ],
   "source": [
    "accuracy_for_unknown_cases = accuracy_score(Unknown_cases,pd.Series(predicted)[special_attack_index_list])\n",
    "print('Unknown attack type detected rate is:',round(accuracy_for_unknown_cases*100,2),'%')"
   ]
  },
  {
   "cell_type": "markdown",
   "metadata": {},
   "source": [
    "# CART Equal Frequency Discretization"
   ]
  },
  {
   "cell_type": "code",
   "execution_count": 55,
   "metadata": {},
   "outputs": [
    {
     "name": "stdout",
     "output_type": "stream",
     "text": [
      "Split test data, Accuracy Rate for CART with efd is: 99.98 %\n",
      "Split test data, Recall Rate for CART with efd is: 99.99 %\n"
     ]
    }
   ],
   "source": [
    "# CART EFD on test data\n",
    "clf_efd = DecisionTreeClassifier()\n",
    "clf_efd.fit(X_train_efd, y_train)\n",
    "expected = y_test\n",
    "predicted = clf_efd.predict(X_test_efd)\n",
    "accuracy_cart_efd = accuracy_score(expected, predicted)\n",
    "recall_cart_efd = recall_score(expected,predicted)\n",
    "print('Split test data, Accuracy Rate for CART with efd is:',round(accuracy_cart_efd*100,2),'%')\n",
    "print('Split test data, Recall Rate for CART with efd is:',round(recall_cart_efd*100,2),'%')"
   ]
  },
  {
   "cell_type": "code",
   "execution_count": 56,
   "metadata": {},
   "outputs": [
    {
     "name": "stdout",
     "output_type": "stream",
     "text": [
      "Official test data, Accuracy Rate for CART with efd is: 92.24 %\n",
      "Official test data, Recall Rate for CART with efd is: 90.52 %\n"
     ]
    }
   ],
   "source": [
    "# CART EFD on official test data\n",
    "clf_efd = DecisionTreeClassifier()\n",
    "clf_efd.fit(X_train_efd, y_train)\n",
    "expected = y_official_test\n",
    "predicted = clf_efd.predict(X_official_test_efd)\n",
    "accuracy_cart_efd_official = accuracy_score(expected, predicted)\n",
    "recall_cart_efd_official = recall_score(expected,predicted)\n",
    "print('Official test data, Accuracy Rate for CART with efd is:',round(accuracy_cart_efd_official*100,2),'%')\n",
    "print('Official test data, Recall Rate for CART with efd is:',round(recall_cart_efd_official*100,2),'%')"
   ]
  },
  {
   "cell_type": "code",
   "execution_count": 57,
   "metadata": {},
   "outputs": [
    {
     "name": "stdout",
     "output_type": "stream",
     "text": [
      "Unknown attack type detected rate is: 10.89 %\n"
     ]
    }
   ],
   "source": [
    "accuracy_for_unknown_cases = accuracy_score(Unknown_cases,pd.Series(predicted)[special_attack_index_list])\n",
    "print('Unknown attack type detected rate is:',round(accuracy_for_unknown_cases*100,2),'%')"
   ]
  },
  {
   "cell_type": "markdown",
   "metadata": {},
   "source": [
    "# CART Proportional k-Interval Discretization"
   ]
  },
  {
   "cell_type": "code",
   "execution_count": 58,
   "metadata": {},
   "outputs": [
    {
     "name": "stdout",
     "output_type": "stream",
     "text": [
      "Split test data, Accuracy Rate for CART with pkid is: 99.99 %\n",
      "Split test data, Recall Rate for CART with pkid is: 99.99 %\n"
     ]
    }
   ],
   "source": [
    "# CARY pkid on test data\n",
    "clf_pkid = DecisionTreeClassifier()\n",
    "clf_pkid.fit(X_train_pkid, y_train)\n",
    "expected = y_test\n",
    "predicted = clf_pkid.predict(X_test_pkid)\n",
    "accuracy_cart_pkid = accuracy_score(expected, predicted)\n",
    "recall_cart_pkid = recall_score(expected,predicted)\n",
    "print('Split test data, Accuracy Rate for CART with pkid is:',round(accuracy_cart_pkid*100,2),'%')\n",
    "print('Split test data, Recall Rate for CART with pkid is:',round(recall_cart_pkid*100,2),'%')"
   ]
  },
  {
   "cell_type": "code",
   "execution_count": 60,
   "metadata": {},
   "outputs": [
    {
     "name": "stdout",
     "output_type": "stream",
     "text": [
      "Official test data, Accuracy Rate for CART with pkid is: 77.19 %\n",
      "Official test data, Recall Rate for CART with pkid is: 71.96 %\n"
     ]
    }
   ],
   "source": [
    "# CART pkid on official data\n",
    "clf_pkid = DecisionTreeClassifier()\n",
    "clf_pkid.fit(X_train_pkid, y_train)\n",
    "expected = y_official_test\n",
    "predicted = clf_pkid.predict(X_official_test_pkid)\n",
    "accuracy_cart_pkid_official = accuracy_score(expected, predicted)\n",
    "recall_cart_pkid_official = recall_score(expected,predicted)\n",
    "print('Official test data, Accuracy Rate for CART with pkid is:',round(accuracy_cart_pkid_official*100,2),'%')\n",
    "print('Official test data, Recall Rate for CART with pkid is:',round(recall_cart_pkid_official*100,2),'%')"
   ]
  },
  {
   "cell_type": "code",
   "execution_count": 61,
   "metadata": {},
   "outputs": [
    {
     "name": "stdout",
     "output_type": "stream",
     "text": [
      "Unknown attack type detected rate is: 6.44 %\n"
     ]
    }
   ],
   "source": [
    "accuracy_for_unknown_cases = accuracy_score(Unknown_cases,pd.Series(predicted)[special_attack_index_list])\n",
    "print('Unknown attack type detected rate is:',round(accuracy_for_unknown_cases*100,2),'%')"
   ]
  },
  {
   "cell_type": "markdown",
   "metadata": {},
   "source": [
    "# CART  k-means Discretization"
   ]
  },
  {
   "cell_type": "code",
   "execution_count": 65,
   "metadata": {},
   "outputs": [
    {
     "name": "stdout",
     "output_type": "stream",
     "text": [
      "Split test data, Accuracy Rate for CART with kmeans is: 99.91 %\n",
      "Split test data, Recall Rate for CART with kmeans is: 99.9 %\n"
     ]
    }
   ],
   "source": [
    "# CART kmeans on test data\n",
    "clf_kmeans = DecisionTreeClassifier()\n",
    "clf_kmeans.fit(X_train_kmeans, y_train)\n",
    "expected = y_test\n",
    "predicted = clf_kmeans.predict(X_test_kmeans)\n",
    "accuracy_cart_kmeans = accuracy_score(expected, predicted)\n",
    "recall_cart_kmeans = recall_score(expected,predicted)\n",
    "print('Split test data, Accuracy Rate for CART with kmeans is:',round(accuracy_cart_kmeans*100,2),'%')\n",
    "print('Split test data, Recall Rate for CART with kmeans is:',round(recall_cart_kmeans*100,2),'%')"
   ]
  },
  {
   "cell_type": "code",
   "execution_count": 66,
   "metadata": {},
   "outputs": [
    {
     "name": "stdout",
     "output_type": "stream",
     "text": [
      "Official test data, Accuracy Rate for CART with kmeans is: 34.32 %\n",
      "Official test data, Recall Rate for CART with kmeans is: 25.36 %\n"
     ]
    }
   ],
   "source": [
    "# CART kmeans on official test data\n",
    "clf_kmeans = DecisionTreeClassifier()\n",
    "clf_kmeans.fit(X_train_kmeans, y_train)\n",
    "expected = y_official_test\n",
    "predicted = clf_kmeans.predict(X_official_test_kmeans)\n",
    "accuracy_cart_kmeans_official = accuracy_score(expected, predicted)\n",
    "recall_cart_kmeans_official = recall_score(expected,predicted)\n",
    "print('Official test data, Accuracy Rate for CART with kmeans is:',round(accuracy_cart_kmeans_official*100,2),'%')\n",
    "print('Official test data, Recall Rate for CART with kmeans is:',round(recall_cart_kmeans_official*100,2),'%')"
   ]
  },
  {
   "cell_type": "code",
   "execution_count": 67,
   "metadata": {},
   "outputs": [
    {
     "name": "stdout",
     "output_type": "stream",
     "text": [
      "Unknown attack type detected rate is: 12.5 %\n"
     ]
    }
   ],
   "source": [
    "accuracy_for_unknown_cases = accuracy_score(Unknown_cases,pd.Series(predicted)[special_attack_index_list])\n",
    "print('Unknown attack type detected rate is:',round(accuracy_for_unknown_cases*100,2),'%')"
   ]
  },
  {
   "cell_type": "markdown",
   "metadata": {},
   "source": [
    "# RF Equal Width Discretization"
   ]
  },
  {
   "cell_type": "code",
   "execution_count": 70,
   "metadata": {},
   "outputs": [
    {
     "name": "stdout",
     "output_type": "stream",
     "text": [
      "Split test data, Accuracy Rate for rf with ewd is: 99.94 %\n",
      "Split test data, Recall Rate for rf with ewd is: 99.93 %\n"
     ]
    }
   ],
   "source": [
    "rf_ewd = RandomForestClassifier(random_state = 0, bootstrap = True)\n",
    "rf_ewd.fit(X_train_ewd, y_train)\n",
    "expected = y_test\n",
    "predicted = rf_ewd.predict(X_test_ewd)\n",
    "accuracy_rf_ewd = accuracy_score(expected, predicted)\n",
    "recall_rf_ewd = recall_score(expected,predicted)\n",
    "print('Split test data, Accuracy Rate for rf with ewd is:',round(accuracy_rf_ewd*100,2),'%')\n",
    "print('Split test data, Recall Rate for rf with ewd is:',round(recall_rf_ewd*100,2),'%')"
   ]
  },
  {
   "cell_type": "code",
   "execution_count": 71,
   "metadata": {},
   "outputs": [
    {
     "name": "stdout",
     "output_type": "stream",
     "text": [
      "Official test data, Accuracy Rate for rf with ewd is: 91.9 %\n",
      "Official test data, Recall Rate for rf with ewd is: 90.04 %\n"
     ]
    }
   ],
   "source": [
    "expected = y_official_test\n",
    "predicted = rf_ewd.predict(X_official_test_ewd)\n",
    "accuracy_rf_ewd_official = accuracy_score(expected, predicted)\n",
    "recall_rf_ewd_official = recall_score(expected,predicted)\n",
    "print('Official test data, Accuracy Rate for rf with ewd is:',round(accuracy_rf_ewd_official*100,2),'%')\n",
    "print('Official test data, Recall Rate for rf with ewd is:',round(recall_rf_ewd_official*100,2),'%')"
   ]
  },
  {
   "cell_type": "code",
   "execution_count": 72,
   "metadata": {},
   "outputs": [
    {
     "name": "stdout",
     "output_type": "stream",
     "text": [
      "Unknown attack type detected rate is: 9.37 %\n"
     ]
    }
   ],
   "source": [
    "accuracy_for_unknown_cases = accuracy_score(Unknown_cases,pd.Series(predicted)[special_attack_index_list])\n",
    "print('Unknown attack type detected rate is:',round(accuracy_for_unknown_cases*100,2),'%')"
   ]
  },
  {
   "cell_type": "markdown",
   "metadata": {},
   "source": [
    "# RF Entropy Minimization Discretization"
   ]
  },
  {
   "cell_type": "code",
   "execution_count": 73,
   "metadata": {},
   "outputs": [
    {
     "name": "stdout",
     "output_type": "stream",
     "text": [
      "Split test data, Accuracy Rate for rf with emd is: 100.0 %\n",
      "Split test data, Recall Rate for rf with emd is: 100.0 %\n"
     ]
    }
   ],
   "source": [
    "from sklearn.ensemble import RandomForestClassifier\n",
    "rf_emd = RandomForestClassifier(random_state = 0, bootstrap = True)\n",
    "rf_emd.fit(X_train_emd, y_train)\n",
    "expected = y_test\n",
    "predicted = rf_emd.predict(X_test_emd)\n",
    "accuracy_rf_emd = accuracy_score(expected, predicted)\n",
    "recall_rf_emd = recall_score(expected,predicted)\n",
    "print('Split test data, Accuracy Rate for rf with emd is:',round(accuracy_rf_emd*100,2),'%')\n",
    "print('Split test data, Recall Rate for rf with emd is:',round(recall_rf_emd*100,2),'%')"
   ]
  },
  {
   "cell_type": "code",
   "execution_count": 74,
   "metadata": {},
   "outputs": [
    {
     "name": "stdout",
     "output_type": "stream",
     "text": [
      "Official test data, Accuracy Rate for rf with emd is: 92.3 %\n",
      "Official test data, Recall Rate for rf with emd is: 90.55 %\n"
     ]
    }
   ],
   "source": [
    "expected = y_official_test\n",
    "predicted = rf_emd.predict(X_official_test_emd)\n",
    "accuracy_rf_emd_official = accuracy_score(expected, predicted)\n",
    "recall_rf_emd_official = recall_score(expected,predicted)\n",
    "print('Official test data, Accuracy Rate for rf with emd is:',round(accuracy_rf_emd_official*100,2),'%')\n",
    "print('Official test data, Recall Rate for rf with emd is:',round(recall_rf_emd_official*100,2),'%')"
   ]
  },
  {
   "cell_type": "code",
   "execution_count": 75,
   "metadata": {},
   "outputs": [
    {
     "name": "stdout",
     "output_type": "stream",
     "text": [
      "Unknown attack type detected rate is: 5.96 %\n"
     ]
    }
   ],
   "source": [
    "accuracy_for_unknown_cases = accuracy_score(Unknown_cases,pd.Series(predicted)[special_attack_index_list])\n",
    "print('Unknown attack type detected rate is:',round(accuracy_for_unknown_cases*100,2),'%')"
   ]
  },
  {
   "cell_type": "markdown",
   "metadata": {},
   "source": [
    "# RF Equal Frequency Discretization"
   ]
  },
  {
   "cell_type": "code",
   "execution_count": 76,
   "metadata": {},
   "outputs": [
    {
     "name": "stdout",
     "output_type": "stream",
     "text": [
      "Split test data, Accuracy Rate for rf with efd is: 99.98 %\n",
      "Split test data, Recall Rate for rf with efd is: 99.99 %\n"
     ]
    }
   ],
   "source": [
    "rf_efd = RandomForestClassifier(random_state = 0, bootstrap = True)\n",
    "rf_efd.fit(X_train_efd, y_train)\n",
    "expected = y_test\n",
    "predicted = rf_efd.predict(X_test_efd)\n",
    "accuracy_rf_efd = accuracy_score(expected, predicted)\n",
    "recall_rf_efd = recall_score(expected,predicted)\n",
    "print('Split test data, Accuracy Rate for rf with efd is:',round(accuracy_rf_efd*100,2),'%')\n",
    "print('Split test data, Recall Rate for rf with efd is:',round(recall_rf_efd*100,2),'%')"
   ]
  },
  {
   "cell_type": "code",
   "execution_count": 77,
   "metadata": {},
   "outputs": [
    {
     "name": "stdout",
     "output_type": "stream",
     "text": [
      "Official test data, Accuracy Rate for rf with efd is: 92.27 %\n",
      "Official test data, Recall Rate for rf with efd is: 90.5 %\n"
     ]
    }
   ],
   "source": [
    "expected = y_official_test\n",
    "predicted = rf_efd.predict(X_official_test_efd)\n",
    "accuracy_rf_efd_official = accuracy_score(expected, predicted)\n",
    "recall_rf_efd_official = recall_score(expected,predicted)\n",
    "print('Official test data, Accuracy Rate for rf with efd is:',round(accuracy_rf_efd_official*100,2),'%')\n",
    "print('Official test data, Recall Rate for rf with efd is:',round(recall_rf_efd_official*100,2),'%')"
   ]
  },
  {
   "cell_type": "code",
   "execution_count": 78,
   "metadata": {},
   "outputs": [
    {
     "name": "stdout",
     "output_type": "stream",
     "text": [
      "Unknown attack type detected rate is: 10.27 %\n"
     ]
    }
   ],
   "source": [
    "accuracy_for_unknown_cases = accuracy_score(Unknown_cases,pd.Series(predicted)[special_attack_index_list])\n",
    "print('Unknown attack type detected rate is:',round(accuracy_for_unknown_cases*100,2),'%')"
   ]
  },
  {
   "cell_type": "markdown",
   "metadata": {},
   "source": [
    "# RF Proportional k-Interval Discretization"
   ]
  },
  {
   "cell_type": "code",
   "execution_count": 79,
   "metadata": {},
   "outputs": [
    {
     "name": "stdout",
     "output_type": "stream",
     "text": [
      "Split test data, Accuracy Rate for rf with pkid is: 99.99 %\n",
      "Split test data, Recall Rate for rf with pkid is: 99.99 %\n"
     ]
    }
   ],
   "source": [
    "from sklearn.ensemble import RandomForestClassifier\n",
    "rf_pkid = RandomForestClassifier(random_state = 0, bootstrap = True)\n",
    "rf_pkid.fit(X_train_pkid, y_train)\n",
    "expected = y_test\n",
    "predicted = rf_pkid.predict(X_test_pkid)\n",
    "accuracy_rf_pkid = accuracy_score(expected, predicted)\n",
    "recall_rf_pkid = recall_score(expected,predicted)\n",
    "print('Split test data, Accuracy Rate for rf with pkid is:',round(accuracy_rf_pkid*100,2),'%')\n",
    "print('Split test data, Recall Rate for rf with pkid is:',round(recall_rf_pkid*100,2),'%')"
   ]
  },
  {
   "cell_type": "code",
   "execution_count": 80,
   "metadata": {},
   "outputs": [
    {
     "name": "stdout",
     "output_type": "stream",
     "text": [
      "Official test data, Accuracy Rate for rf with pkid is: 81.12 %\n",
      "Official test data, Recall Rate for rf with pkid is: 76.63 %\n"
     ]
    }
   ],
   "source": [
    "expected = y_official_test\n",
    "predicted = rf_pkid.predict(X_official_test_pkid)\n",
    "accuracy_rf_pkid_official = accuracy_score(expected, predicted)\n",
    "recall_rf_pkid_official = recall_score(expected,predicted)\n",
    "print('Official test data, Accuracy Rate for rf with pkid is:',round(accuracy_rf_pkid_official*100,2),'%')\n",
    "print('Official test data, Recall Rate for rf with pkid is:',round(recall_rf_pkid_official*100,2),'%')"
   ]
  },
  {
   "cell_type": "code",
   "execution_count": 81,
   "metadata": {},
   "outputs": [
    {
     "name": "stdout",
     "output_type": "stream",
     "text": [
      "Unknown attack type detected rate is: 3.88 %\n"
     ]
    }
   ],
   "source": [
    "accuracy_for_unknown_cases = accuracy_score(Unknown_cases,pd.Series(predicted)[special_attack_index_list])\n",
    "print('Unknown attack type detected rate is:',round(accuracy_for_unknown_cases*100,2),'%')"
   ]
  },
  {
   "cell_type": "markdown",
   "metadata": {},
   "source": [
    "# RF K-means Discretization"
   ]
  },
  {
   "cell_type": "code",
   "execution_count": 82,
   "metadata": {},
   "outputs": [
    {
     "name": "stdout",
     "output_type": "stream",
     "text": [
      "Split test data, Accuracy Rate for rf with kmeans is: 99.91 %\n",
      "Split test data, Recall Rate for rf with kmeans is: 99.9 %\n"
     ]
    }
   ],
   "source": [
    "rf_kmeans = RandomForestClassifier(random_state = 0, bootstrap = True)\n",
    "rf_kmeans.fit(X_train_kmeans, y_train)\n",
    "expected = y_test\n",
    "predicted = rf_kmeans.predict(X_test_kmeans)\n",
    "accuracy_rf_kmeans = accuracy_score(expected, predicted)\n",
    "recall_rf_kmeans = recall_score(expected,predicted)\n",
    "print('Split test data, Accuracy Rate for rf with kmeans is:',round(accuracy_rf_kmeans*100,2),'%')\n",
    "print('Split test data, Recall Rate for rf with kmeans is:',round(recall_rf_kmeans*100,2),'%')"
   ]
  },
  {
   "cell_type": "code",
   "execution_count": 83,
   "metadata": {},
   "outputs": [
    {
     "name": "stdout",
     "output_type": "stream",
     "text": [
      "Official test data, Accuracy Rate for rf with kmeans is: 81.75 %\n",
      "Official test data, Recall Rate for rf with kmeans is: 77.42 %\n"
     ]
    }
   ],
   "source": [
    "expected = y_official_test\n",
    "predicted = rf_kmeans.predict(X_official_test_kmeans)\n",
    "accuracy_rf_kmeans_official = accuracy_score(expected, predicted)\n",
    "recall_rf_kmeans_official = recall_score(expected,predicted)\n",
    "print('Official test data, Accuracy Rate for rf with kmeans is:',round(accuracy_rf_kmeans_official*100,2),'%')\n",
    "print('Official test data, Recall Rate for rf with kmeans is:',round(recall_rf_kmeans_official*100,2),'%')"
   ]
  },
  {
   "cell_type": "code",
   "execution_count": 84,
   "metadata": {},
   "outputs": [
    {
     "name": "stdout",
     "output_type": "stream",
     "text": [
      "Unknown attack type detected rate is: 12.46 %\n"
     ]
    }
   ],
   "source": [
    "accuracy_for_unknown_cases = accuracy_score(Unknown_cases,pd.Series(predicted)[special_attack_index_list])\n",
    "print('Unknown attack type detected rate is:',round(accuracy_for_unknown_cases*100,2),'%')"
   ]
  }
 ],
 "metadata": {
  "kernelspec": {
   "display_name": "Python 3",
   "language": "python",
   "name": "python3"
  },
  "language_info": {
   "codemirror_mode": {
    "name": "ipython",
    "version": 3
   },
   "file_extension": ".py",
   "mimetype": "text/x-python",
   "name": "python",
   "nbconvert_exporter": "python",
   "pygments_lexer": "ipython3",
   "version": "3.6.10"
  }
 },
 "nbformat": 4,
 "nbformat_minor": 2
}
